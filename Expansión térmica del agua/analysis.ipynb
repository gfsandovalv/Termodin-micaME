{
 "cells": [
  {
   "cell_type": "markdown",
   "metadata": {},
   "source": [
    "# Expansión térmica del agua\n",
    "\n",
    "El coeficiente de dilatación térmica está definido por la siguiente relación\n",
    "$$\n",
    "\\gamma = \\frac{1}{V_0}\\frac{\\Delta V}{\\Delta T} \\\\\n",
    "\\Rightarrow \\Delta V = V_0 \\gamma  \\Delta T \n",
    "$$\n",
    "\n",
    "\n",
    "El volumen total de agua $V$ dentro del tubo de ensayo se puede escribir como $V = V_0 + V_{\\text{capilar}}$, donde  $ V_{\\text{capilar}} $ es volumen medido en el capilar hasta el nivel de agua, desde la marca determinada como el volumen inicial, es decir, la columna medida $h$ por el área transversal interna del capilar $\\pi d^2/4$.  \n",
    "\n",
    "De lo anterior se tiene que $$\\Delta V = \\Delta V_{\\text{capilar}} =\\pi\\frac{d^2}{4}\\Delta h$$\n",
    "\n",
    "Juntando esta ecuación con la definición de $\\gamma$, se tiene que\n",
    "\n",
    "$$\n",
    "    \\pi\\frac{d^2}{4}\\Delta h = V_0 \\gamma  \\Delta T \\\\\n",
    "    \\Rightarrow \\Delta h =   \\frac{4V_0 \\gamma}{d^2\\pi} \\Delta T\n",
    "$$\n",
    "\n",
    "La linealización de los datos arroja la relación $h = a (T - T_0)$, por lo tanto $\\Delta h = a$, y final mente \n",
    "\n",
    "$$ a = \\frac{4V_0 \\gamma}{d^2\\pi} $$\n",
    "$$  \\Rightarrow \\gamma = a\\frac{d^2\\pi}{4V_0} $$\n"
   ]
  },
  {
   "cell_type": "markdown",
   "metadata": {},
   "source": [
    "## Descripción experimental\n",
    "Se inicia con el nivel en 6 marcas. La temperatura se mide con un termistor $\\text{Pt}100$. $h$ está dado en milímetros y $R$ en $\\text{k}\\Omega$.\n",
    "\n",
    "Radio interno del capilar $0.12\\text{cm}$"
   ]
  },
  {
   "cell_type": "markdown",
   "metadata": {},
   "source": [
    "## Resultados"
   ]
  },
  {
   "cell_type": "code",
   "execution_count": 1,
   "metadata": {},
   "outputs": [],
   "source": [
    "import pandas as pd\n",
    "import numpy as np\n",
    "from scipy.stats import t\n",
    "import matplotlib.pyplot as plt\n",
    "\n",
    "from sympy.parsing.sympy_parser import parse_expr\n",
    "from sympy import latex\n",
    "from sympy import Symbol, latex, diff, sympify\n",
    "from sympy.core.numbers import Float, Integer"
   ]
  },
  {
   "cell_type": "code",
   "execution_count": 2,
   "metadata": {},
   "outputs": [],
   "source": [
    "class LinModel():\n",
    "    def __init__(self, dataframe, xlabel='x', ylabel='y', label='', x_units='', y_units='', round_figures=3, rename_x='', x0_form=False):\n",
    "        self.model_label = label \n",
    "        self.x_units = x_units\n",
    "        self.y_units = y_units\n",
    "        self.x_var = dataframe[xlabel].copy()\n",
    "        self.y_var = dataframe[ylabel].copy()\n",
    "        \n",
    "        self.fit()\n",
    "        \n",
    "        self.pars = self.vars_stat_summary[['Parámetro', 'Valor estimado']].set_index('Parámetro')\n",
    "        \n",
    "        if x0_form == True:\n",
    "            b = self.pars.loc['b']\n",
    "            m = self.pars.loc['m']\n",
    "            x0 = - b/m \n",
    "            self.pars.loc[xlabel + '0'] = x0\n",
    "            self.rhs = sympify('m *(' + xlabel + ' - ' + xlabel + '0)')  if rename_x == '' else sympify('m *(' + rename_x + ' - ' + xlabel + '0)')\n",
    "            \n",
    "            rhs = str(self.rhs)\n",
    "            \n",
    "            format_string = \"{:.\" + str(round_figures) + \"f}\"\n",
    "            rhs = rhs.replace('m', str(format_string.format(m['Valor estimado'])))\n",
    "            rhs = rhs.replace('T0', str(format_string.format(x0['Valor estimado'])))\n",
    "            self.rhs_subs = sympify(rhs, evaluate=False)\n",
    "        else: \n",
    "            self.rhs = sympify('m *' + xlabel + ' + b') if rename_x == '' else sympify('m *' + rename_x + ' + b')\n",
    "            self.rhs_subs = self.rhs.subs(self.pars.transpose().round(round_figures).items())\n",
    "         \n",
    "        self.lhs = sympify(ylabel + '(' + xlabel + ')')   \n",
    "        self.expression = str(self.lhs) + ' = ' + str(self.rhs_subs)\n",
    "        self.ln_expression = latex(self.lhs) + ' = ' + latex(self.rhs_subs)\n",
    "\n",
    "    def fit(self):\n",
    "        def stat_error(std, dof):\n",
    "            t_95 = t.isf(0.025, dof)\n",
    "            return std*t_95\n",
    "\n",
    "        coefficients, covariance_matrix = np.polyfit(self.x_var, self.y_var, 1, cov=True)\n",
    "        self.slope, self.intercept = coefficients\n",
    "        \n",
    "        dof = len(self.x_var)-2 # degrees of freedom\n",
    "        std_slope, std_intercept = np.abs(np.sqrt(np.diag(covariance_matrix)))\n",
    "        unc_slope, unc_intercept = (stat_error(std_slope, dof), stat_error(std_intercept, dof))\n",
    "        cov = covariance_matrix[0,1]\n",
    "        \n",
    "        x_min = self.x_var.min()\n",
    "        x_max = self.x_var.max()\n",
    "        #interval_length = x_max - x_min\n",
    "        prediction_func = lambda x: self.slope*x + self.intercept\n",
    "        \n",
    "        y_predicted = prediction_func(self.x_var) # f_i = f(x_i)\n",
    "        ss_res = np.sum((self.y_var - y_predicted)**2)\n",
    "        ss_tot = np.sum((self.y_var - self.y_var.mean())**2)\n",
    "                \n",
    "        pearson_correlation = cov/std_intercept/std_slope\n",
    "        coef_of_determination = 1 - ss_res/ss_tot\n",
    "        \n",
    "        # Falta añadir el error experimental, solo se reporta el estadístico!\n",
    "        \n",
    "        self.fit_summary = pd.Series(\n",
    "            data={\n",
    "                'Pearson correlation r': pearson_correlation,\n",
    "                'Coefficient of determination R^2': coef_of_determination\n",
    "            })\n",
    "\n",
    "        self.vars_stat_summary = pd.DataFrame(\n",
    "            data={\n",
    "                'Parámetro' : ['m', 'b'], \n",
    "                'Valor estimado':[self.slope, self.intercept],\n",
    "                'Error estándar': [std_slope, std_intercept], \n",
    "                'Incertidumbre':[unc_slope, unc_intercept]\n",
    "            })\n",
    "        \n",
    "    def f_model(self, x):\n",
    "        return self.slope*x + self.intercept\n",
    "    \n",
    "    def plot(self, ax=None, xlabel='', ylabel='', color = (0,0,0.8), legend=True, show_expression=True, data_label=''):\n",
    "        label = self.model_label\n",
    "        if type(ax) == type(None):\n",
    "            _, ax = plt.subplots(1,1)\n",
    "            \n",
    "        x = self.x_var\n",
    "        y = self.y_var\n",
    "\n",
    "        x_min = x.min()\n",
    "        x_max = x.max()\n",
    "        \n",
    "        x_grid = np.linspace(x_min, x_max, 100)\n",
    "        y_model = self.f_model(x_grid)\n",
    "        \n",
    "        if xlabel == '':\n",
    "            xlabel += x.name\n",
    "        if ylabel == '':\n",
    "            ylabel += y.name\n",
    "        curve_label = '$' + str(ylabel) + ' = ' +str(self.rhs_subs) + '$' if show_expression is True else ''\n",
    "        curve_label = '$' + self.ln_expression + '$'\n",
    "        \n",
    "        if self.x_units != '':\n",
    "            xlabel +=  ' (' + self.x_units + ')'\n",
    "        if self.y_units != '':\n",
    "            ylabel += ' (' + self.y_units + ')'\n",
    "                \n",
    "        ax.set_xlabel(xlabel)\n",
    "        ax.set_ylabel(ylabel)\n",
    "        \n",
    "        ax.errorbar(x=x, y=y, marker = '.', ls='', ms='5', color = color, label=data_label)\n",
    "        ax.plot(x_grid, y_model, color=(*color, 0.3), ls='-', label=curve_label)\n",
    "        if legend is True:\n",
    "            ax.legend()"
   ]
  },
  {
   "cell_type": "code",
   "execution_count": 3,
   "metadata": {},
   "outputs": [],
   "source": [
    "data_1 = pd.read_csv('data_1.csv')\n",
    "data_2 = pd.read_csv('data_2.csv')\n",
    "data_hervida = pd.read_csv('data_hervida.csv')\n",
    "\n",
    "R_vs_T = pd.read_csv('R_vs_T.csv')\n",
    "\n",
    "# Temperatura vs resistencia para el Pt100\n",
    "R_vs_T['log(R/R0)'] = (R_vs_T['R']/R_vs_T.R.min()).apply(np.log)\n",
    "R_vs_T_model = LinModel(R_vs_T, xlabel='log(R/R0)', ylabel='T', y_units='°C', round_figures=5)\n",
    "\n",
    "# T = T(R); [R] = kilo ohmns, [T] = °C\n",
    "T = lambda R: R_vs_T_model.f_model(np.log(R/R_vs_T.R.min()))\n",
    "\n",
    "data_1['T'] = (data_1.R*1000).apply(T)\n",
    "data_2['T'] = (data_2.R*1000).apply(T)\n",
    "data_hervida['T'] = (data_hervida.R*1000).apply(T)"
   ]
  },
  {
   "cell_type": "code",
   "execution_count": 4,
   "metadata": {},
   "outputs": [
    {
     "data": {
      "image/png": "[encoded data removed]",
      "text/plain": [
       "<Figure size 640x480 with 1 Axes>"
      ]
     },
     "metadata": {},
     "output_type": "display_data"
    }
   ],
   "source": [
    "data_model_1 = LinModel(data_1, xlabel='T', ylabel='h', x_units='°C', y_units='mm', round_figures=2, x0_form=True)\n",
    "data_model_2 = LinModel(data_2, xlabel='T', ylabel='h', x_units='°C', y_units='mm', round_figures=2, x0_form=True)\n",
    "data_model_hervida = LinModel(data_hervida, xlabel='T', ylabel='h', x_units='°C', y_units='mm', round_figures=2, x0_form=True)\n",
    "\n",
    "fig, ax = plt.subplots(1,1)\n",
    "data_model_1.plot(ax=ax, color = (0.3,0.5,0), data_label='Toma 1')\n",
    "data_model_2.plot(ax=ax, data_label='Toma 2')\n",
    "data_model_hervida.plot(ax=ax, color=(1,0,0.5), data_label='Agua hervida')"
   ]
  },
  {
   "cell_type": "code",
   "execution_count": 5,
   "metadata": {},
   "outputs": [
    {
     "name": "stdout",
     "output_type": "stream",
     "text": [
      "Pearson correlation r              -0.999041\n",
      "Coefficient of determination R^2    0.992055\n",
      "dtype: float64\n",
      " - - - - - - - - - - - - - - - - - - - - - - - - - - - - - - - - - - - - \n",
      "Pearson correlation r              -0.993736\n",
      "Coefficient of determination R^2    0.941187\n",
      "dtype: float64\n",
      " - - - - - - - - - - - - - - - - - - - - - - - - - - - - - - - - - - - - \n",
      "Pearson correlation r              -0.991969\n",
      "Coefficient of determination R^2    0.981316\n",
      "dtype: float64\n"
     ]
    }
   ],
   "source": [
    "print(data_model_1.fit_summary)\n",
    "print(' - - - - - - - - - - - - - - - - - - - - - - - - - - - - - - - - - - - - ')\n",
    "print(data_model_2.fit_summary)\n",
    "print(' - - - - - - - - - - - - - - - - - - - - - - - - - - - - - - - - - - - - ')\n",
    "print(data_model_hervida.fit_summary)"
   ]
  },
  {
   "cell_type": "markdown",
   "metadata": {},
   "source": [
    "Con $d=1.2\\text{ mm}$, $V0 = 50 \\cdot 1000 \\text{ mm}^3$ y los valores de las pendientes se tienen los siguientes valores para $\\gamma$"
   ]
  },
  {
   "cell_type": "code",
   "execution_count": 19,
   "metadata": {},
   "outputs": [
    {
     "name": "stdout",
     "output_type": "stream",
     "text": [
      "Toma 1:  1.341e-04\n",
      "Toma 2:  6.448e-05\n",
      "Agua hervida:  6.354e-05\n"
     ]
    }
   ],
   "source": [
    "d = 1.2 # diametro interno del capilar en milímetros\n",
    "V0 = 50 * 1000\n",
    "gamma_values = [d**2*np.pi/4/V0*model.pars.loc['m']['Valor estimado'] for model in (data_model_1, data_model_2, data_model_hervida)]\n",
    "\n",
    "print('Toma 1: ', \"{:.3e}\".format(gamma_values[0]))\n",
    "print('Toma 2: ', \"{:.3e}\".format(gamma_values[1]))\n",
    "print('Agua hervida: ', \"{:.3e}\".format(gamma_values[2]))"
   ]
  }
 ],
 "metadata": {
  "kernelspec": {
   "display_name": "Python 3 (ipykernel)",
   "language": "python",
   "name": "python3"
  },
  "language_info": {
   "codemirror_mode": {
    "name": "ipython",
    "version": 3
   },
   "file_extension": ".py",
   "mimetype": "text/x-python",
   "name": "python",
   "nbconvert_exporter": "python",
   "pygments_lexer": "ipython3",
   "version": "3.10.6"
  },
  "vscode": {
   "interpreter": {
    "hash": "0a8feb92978981b24f7ee5357042368753551c8c1e8aca0c7a977e6dc7806dc4"
   }
  }
 },
 "nbformat": 4,
 "nbformat_minor": 2
}
