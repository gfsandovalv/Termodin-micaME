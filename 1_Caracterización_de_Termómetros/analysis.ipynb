{
 "cells": [
  {
   "cell_type": "markdown",
   "metadata": {},
   "source": [
    "# Caracterización de Termómetros"
   ]
  },
  {
   "cell_type": "markdown",
   "metadata": {},
   "source": [
    "## Función para ajustar y graficar"
   ]
  },
  {
   "cell_type": "code",
   "execution_count": 1,
   "metadata": {},
   "outputs": [],
   "source": [
    "import pandas as pd\n",
    "import matplotlib.pyplot as plt\n",
    "\n",
    "import numpy as np\n",
    "from scipy.stats import t\n",
    "\n",
    "class LinModel():\n",
    "    def __init__(self, dataframe, xlabel='x', ylabel='y'):\n",
    "        self.x = dataframe[xlabel].copy()\n",
    "        self.y = dataframe[ylabel].copy()\n",
    "        \n",
    "        def stat_error(std, dof):\n",
    "            t_95 = t.isf(0.025, dof)\n",
    "            return std*t_95\n",
    "\n",
    "\n",
    "        coef, cov = np.polyfit(self.x, self.y, 1, cov=True)\n",
    "\n",
    "        self.m, self.b = coef\n",
    "        std_m, std_b = np.sqrt(np.diag(cov))\n",
    "        unc_m, unc_b = (stat_error(std_m, len(self.x)-2), stat_error(std_b, len(self.x)-2))\n",
    "        \n",
    "        # Falta añadir el error experimental, solo se reporta el estadístico!\n",
    "\n",
    "        self.stat_summary = pd.DataFrame(\n",
    "            data={\n",
    "                'Parámetro' : ['m', 'b'], \n",
    "                'Valor estimado':[self.m, self.b],\n",
    "                'Error estándar': [std_m, std_b], \n",
    "                'Incertidumbre':[unc_m, unc_b]\n",
    "            })\n",
    "        \n",
    "    def prediction_func(self, x):\n",
    "        return self.m*x + self.b   \n",
    "    \n",
    "    def plot(self, yerr=None, xerr=None, \n",
    "             x_var_name='x', y_var_name='y', \n",
    "             colors=['orange', 'red'], \n",
    "             plot_data=True, data_label='data', plot_fit=True, \n",
    "             x_var_units = 'xunits', y_var_units = 'yunits',\n",
    "             title=''):\n",
    "        self.ln_expression_latex = '$' + y_var_name + '(' + x_var_name + ') = ' + str(round(self.m, 1)) + x_var_name + ' + ' + str(round(self.b, 1)) + '$'\n",
    "                \n",
    "        #self.stat_info_latex = '\\n$R^2 = $' + str(round(self.ln_result.rvalue**2, 4)) + '\\n $\\sigma_{N-1} = $' + str(round(self.ln_result.stderr, 5))\n",
    "        if plot_data == True:\n",
    "            plt.errorbar(self.x, self.y, yerr=yerr, xerr=xerr, marker = '.', ls='none', ms='5',color = colors[0], ecolor = colors[1], elinewidth = 2, capsize=5, label=data_label)\n",
    "        if plot_fit == True:\n",
    "            plt.plot(self.x, self.x.apply(self.prediction_func), ls='--', color=colors[1], label=self.ln_expression_latex)\n",
    "        plt.xlabel('$' + x_var_name + '$' + ' (' + x_var_units + ')')\n",
    "        plt.ylabel('$' + y_var_name + '(' + x_var_name + ')' + '$' + ' (' + y_var_units + ')')\n",
    "        # Agregar título\n",
    "        plt.legend() "
   ]
  },
  {
   "cell_type": "markdown",
   "metadata": {},
   "source": [
    "## Termopar"
   ]
  },
  {
   "cell_type": "markdown",
   "metadata": {},
   "source": [
    "Diferencia de potencial en milivoltios"
   ]
  },
  {
   "cell_type": "code",
   "execution_count": 2,
   "metadata": {},
   "outputs": [
    {
     "data": {
      "text/html": [
       "<div>\n",
       "<style scoped>\n",
       "    .dataframe tbody tr th:only-of-type {\n",
       "        vertical-align: middle;\n",
       "    }\n",
       "\n",
       "    .dataframe tbody tr th {\n",
       "        vertical-align: top;\n",
       "    }\n",
       "\n",
       "    .dataframe thead th {\n",
       "        text-align: right;\n",
       "    }\n",
       "</style>\n",
       "<table border=\"1\" class=\"dataframe\">\n",
       "  <thead>\n",
       "    <tr style=\"text-align: right;\">\n",
       "      <th></th>\n",
       "      <th>Parámetro</th>\n",
       "      <th>Valor estimado</th>\n",
       "      <th>Error estándar</th>\n",
       "      <th>Incertidumbre</th>\n",
       "    </tr>\n",
       "  </thead>\n",
       "  <tbody>\n",
       "    <tr>\n",
       "      <th>0</th>\n",
       "      <td>m</td>\n",
       "      <td>17.976675</td>\n",
       "      <td>0.172456</td>\n",
       "      <td>0.354489</td>\n",
       "    </tr>\n",
       "    <tr>\n",
       "      <th>1</th>\n",
       "      <td>b</td>\n",
       "      <td>21.015236</td>\n",
       "      <td>0.349730</td>\n",
       "      <td>0.718880</td>\n",
       "    </tr>\n",
       "  </tbody>\n",
       "</table>\n",
       "</div>"
      ],
      "text/plain": [
       "  Parámetro  Valor estimado  Error estándar  Incertidumbre\n",
       "0         m       17.976675        0.172456       0.354489\n",
       "1         b       21.015236        0.349730       0.718880"
      ]
     },
     "execution_count": 2,
     "metadata": {},
     "output_type": "execute_result"
    },
    {
     "data": {
      "image/png": "[encoded data removed]",
      "text/plain": [
       "<Figure size 432x288 with 1 Axes>"
      ]
     },
     "metadata": {
      "needs_background": "light"
     },
     "output_type": "display_data"
    }
   ],
   "source": [
    "import pandas as pd\n",
    "termopar_data = pd.read_csv('termopar_data.csv')\n",
    "termopar_data.plot(x='V', y='T', kind='scatter')\n",
    "\n",
    "termopar_model = LinModel(termopar_data, xlabel='V', ylabel='T')\n",
    "termopar_model.plot(y_var_name='T', x_var_name='V', data_label='Valores medidos', colors=['red', 'blue'], y_var_units='°C', x_var_units='mV')\n",
    "termopar_model.stat_summary"
   ]
  },
  {
   "cell_type": "markdown",
   "metadata": {},
   "source": [
    "## Termistor NTC"
   ]
  },
  {
   "cell_type": "markdown",
   "metadata": {},
   "source": [
    "\\begin{align}\n",
    "R(T) = R_0 \\exp{\\left(\\beta \\left[\\dfrac{1}{T}-\\dfrac{1}{T_0}\\right]\\right)} \\\\\n",
    "= R_0 \\exp{\\left(\\dfrac{E_g}{\\kappa_B} \\left[\\dfrac{1}{T}-\\dfrac{1}{T_0}\\right]\\right)}\n",
    "\\end{align}"
   ]
  },
  {
   "cell_type": "markdown",
   "metadata": {},
   "source": [
    "Resistencia en $\\text{k}\\Omega$"
   ]
  },
  {
   "cell_type": "code",
   "execution_count": 3,
   "metadata": {},
   "outputs": [],
   "source": [
    "from numpy import log\n",
    "termistor_data = pd.read_csv('termistor_data.csv')\n",
    "\n",
    "# log-log\n",
    "termistor_data['T_log'] = termistor_data['T'].apply(log)\n",
    "termistor_data['R_log'] = termistor_data['R'].apply(log)"
   ]
  },
  {
   "cell_type": "code",
   "execution_count": 4,
   "metadata": {},
   "outputs": [
    {
     "data": {
      "text/html": [
       "<div>\n",
       "<style scoped>\n",
       "    .dataframe tbody tr th:only-of-type {\n",
       "        vertical-align: middle;\n",
       "    }\n",
       "\n",
       "    .dataframe tbody tr th {\n",
       "        vertical-align: top;\n",
       "    }\n",
       "\n",
       "    .dataframe thead th {\n",
       "        text-align: right;\n",
       "    }\n",
       "</style>\n",
       "<table border=\"1\" class=\"dataframe\">\n",
       "  <thead>\n",
       "    <tr style=\"text-align: right;\">\n",
       "      <th></th>\n",
       "      <th>Parámetro</th>\n",
       "      <th>Valor estimado</th>\n",
       "      <th>Error estándar</th>\n",
       "      <th>Incertidumbre</th>\n",
       "    </tr>\n",
       "  </thead>\n",
       "  <tbody>\n",
       "    <tr>\n",
       "      <th>0</th>\n",
       "      <td>m</td>\n",
       "      <td>-0.523322</td>\n",
       "      <td>0.014029</td>\n",
       "      <td>0.028836</td>\n",
       "    </tr>\n",
       "    <tr>\n",
       "      <th>1</th>\n",
       "      <td>b</td>\n",
       "      <td>5.677783</td>\n",
       "      <td>0.051471</td>\n",
       "      <td>0.105801</td>\n",
       "    </tr>\n",
       "  </tbody>\n",
       "</table>\n",
       "</div>"
      ],
      "text/plain": [
       "  Parámetro  Valor estimado  Error estándar  Incertidumbre\n",
       "0         m       -0.523322        0.014029       0.028836\n",
       "1         b        5.677783        0.051471       0.105801"
      ]
     },
     "execution_count": 4,
     "metadata": {},
     "output_type": "execute_result"
    },
    {
     "data": {
      "image/png": "[encoded data removed]",
      "text/plain": [
       "<Figure size 432x288 with 1 Axes>"
      ]
     },
     "metadata": {
      "needs_background": "light"
     },
     "output_type": "display_data"
    }
   ],
   "source": [
    "termistor_model = LinModel(termistor_data, xlabel='R_log', ylabel='T_log')\n",
    "termistor_model.plot(y_var_name='T_{log}', x_var_name='R_{log}', data_label='Valores medidos', colors=['orange', 'gray'], y_var_units='Log(°C)', x_var_units='Log(k$\\Omega$)')\n",
    "termistor_model.stat_summary"
   ]
  },
  {
   "cell_type": "markdown",
   "metadata": {},
   "source": [
    "## Termistor Metálico - Bobina de cobre"
   ]
  },
  {
   "cell_type": "markdown",
   "metadata": {},
   "source": [
    "\\begin{align}\n",
    "R(T) = R_0 \\left[ 1 + \\alpha (T-T_0)\\right]\n",
    "\\end{align}"
   ]
  },
  {
   "cell_type": "markdown",
   "metadata": {},
   "source": [
    "Resistencia medida en $\\Omega$"
   ]
  },
  {
   "cell_type": "code",
   "execution_count": 5,
   "metadata": {},
   "outputs": [
    {
     "data": {
      "text/html": [
       "<div>\n",
       "<style scoped>\n",
       "    .dataframe tbody tr th:only-of-type {\n",
       "        vertical-align: middle;\n",
       "    }\n",
       "\n",
       "    .dataframe tbody tr th {\n",
       "        vertical-align: top;\n",
       "    }\n",
       "\n",
       "    .dataframe thead th {\n",
       "        text-align: right;\n",
       "    }\n",
       "</style>\n",
       "<table border=\"1\" class=\"dataframe\">\n",
       "  <thead>\n",
       "    <tr style=\"text-align: right;\">\n",
       "      <th></th>\n",
       "      <th>Parámetro</th>\n",
       "      <th>Valor estimado</th>\n",
       "      <th>Error estándar</th>\n",
       "      <th>Incertidumbre</th>\n",
       "    </tr>\n",
       "  </thead>\n",
       "  <tbody>\n",
       "    <tr>\n",
       "      <th>0</th>\n",
       "      <td>m</td>\n",
       "      <td>23.870085</td>\n",
       "      <td>0.347305</td>\n",
       "      <td>0.716801</td>\n",
       "    </tr>\n",
       "    <tr>\n",
       "      <th>1</th>\n",
       "      <td>b</td>\n",
       "      <td>-231.788376</td>\n",
       "      <td>4.193118</td>\n",
       "      <td>8.654171</td>\n",
       "    </tr>\n",
       "  </tbody>\n",
       "</table>\n",
       "</div>"
      ],
      "text/plain": [
       "  Parámetro  Valor estimado  Error estándar  Incertidumbre\n",
       "0         m       23.870085        0.347305       0.716801\n",
       "1         b     -231.788376        4.193118       8.654171"
      ]
     },
     "execution_count": 5,
     "metadata": {},
     "output_type": "execute_result"
    },
    {
     "data": {
      "image/png": "[encoded data removed]",
      "text/plain": [
       "<Figure size 432x288 with 1 Axes>"
      ]
     },
     "metadata": {
      "needs_background": "light"
     },
     "output_type": "display_data"
    }
   ],
   "source": [
    "bobina_data = pd.read_csv('termistor_bobina_data.csv')\n",
    "\n",
    "bobina_data = LinModel(bobina_data, xlabel='R', ylabel='T')\n",
    "bobina_data.plot(y_var_name='T', \n",
    "                    x_var_name='R', \n",
    "                    data_label='Valores medidos', \n",
    "                    colors=['red', 'blue'], \n",
    "                    y_var_units='°C', \n",
    "                    x_var_units='$\\Omega$')\n",
    "bobina_data.stat_summary"
   ]
  },
  {
   "cell_type": "markdown",
   "metadata": {},
   "source": [
    "## Diodo\n",
    "Se mantiene constante el voltaje a 5 V. Se mide la caída de potencial en el diodo, en unidades de voltios."
   ]
  },
  {
   "cell_type": "code",
   "execution_count": 6,
   "metadata": {},
   "outputs": [
    {
     "data": {
      "text/html": [
       "<div>\n",
       "<style scoped>\n",
       "    .dataframe tbody tr th:only-of-type {\n",
       "        vertical-align: middle;\n",
       "    }\n",
       "\n",
       "    .dataframe tbody tr th {\n",
       "        vertical-align: top;\n",
       "    }\n",
       "\n",
       "    .dataframe thead th {\n",
       "        text-align: right;\n",
       "    }\n",
       "</style>\n",
       "<table border=\"1\" class=\"dataframe\">\n",
       "  <thead>\n",
       "    <tr style=\"text-align: right;\">\n",
       "      <th></th>\n",
       "      <th>Parámetro</th>\n",
       "      <th>Valor estimado</th>\n",
       "      <th>Error estándar</th>\n",
       "      <th>Incertidumbre</th>\n",
       "    </tr>\n",
       "  </thead>\n",
       "  <tbody>\n",
       "    <tr>\n",
       "      <th>0</th>\n",
       "      <td>m</td>\n",
       "      <td>-450.6047</td>\n",
       "      <td>1.804573</td>\n",
       "      <td>3.702679</td>\n",
       "    </tr>\n",
       "    <tr>\n",
       "      <th>1</th>\n",
       "      <td>b</td>\n",
       "      <td>280.4107</td>\n",
       "      <td>0.904320</td>\n",
       "      <td>1.855511</td>\n",
       "    </tr>\n",
       "  </tbody>\n",
       "</table>\n",
       "</div>"
      ],
      "text/plain": [
       "  Parámetro  Valor estimado  Error estándar  Incertidumbre\n",
       "0         m       -450.6047        1.804573       3.702679\n",
       "1         b        280.4107        0.904320       1.855511"
      ]
     },
     "execution_count": 6,
     "metadata": {},
     "output_type": "execute_result"
    },
    {
     "data": {
      "image/png": "[encoded data removed]",
      "text/plain": [
       "<Figure size 432x288 with 1 Axes>"
      ]
     },
     "metadata": {
      "needs_background": "light"
     },
     "output_type": "display_data"
    }
   ],
   "source": [
    "diodo_data = pd.read_csv('diodo_data.csv')\n",
    "#diodo_data.plot(x='V', y='T', kind='scatter')\n",
    "diodo_data = LinModel(diodo_data, xlabel='V', ylabel='T')\n",
    "diodo_data.plot(y_var_name='T', \n",
    "                    x_var_name='R', \n",
    "                    data_label='Valores medidos', \n",
    "                    colors=['red', 'blue'], \n",
    "                    y_var_units='°C', \n",
    "                    x_var_units='$\\Omega$')\n",
    "diodo_data.stat_summary\n"
   ]
  }
 ],
 "metadata": {
  "kernelspec": {
   "display_name": "Python 3.10.4 64-bit",
   "language": "python",
   "name": "python3"
  },
  "language_info": {
   "codemirror_mode": {
    "name": "ipython",
    "version": 3
   },
   "file_extension": ".py",
   "mimetype": "text/x-python",
   "name": "python",
   "nbconvert_exporter": "python",
   "pygments_lexer": "ipython3",
   "version": "3.10.4"
  },
  "orig_nbformat": 4,
  "vscode": {
   "interpreter": {
    "hash": "916dbcbb3f70747c44a77c7bcd40155683ae19c65e1c03b4aa3499c5328201f1"
   }
  }
 },
 "nbformat": 4,
 "nbformat_minor": 2
}
