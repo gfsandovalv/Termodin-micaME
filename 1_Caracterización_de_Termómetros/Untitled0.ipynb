{
  "cells": [
    {
      "cell_type": "markdown",
      "metadata": {
        "colab_type": "text",
        "id": "view-in-github"
      },
      "source": [
        "<a href=\"https://colab.research.google.com/github/gfsandovalv/Termodin-micaME/blob/main/1_Caracterizaci%C3%B3n_de_Term%C3%B3metros/Untitled0.ipynb\" target=\"_parent\"><img src=\"https://colab.research.google.com/assets/colab-badge.svg\" alt=\"Open In Colab\"/></a>"
      ]
    },
    {
      "cell_type": "markdown",
      "metadata": {
        "id": "tx2I8vQzT1w8"
      },
      "source": [
        "# Caracterización de Termómetros"
      ]
    },
    {
      "cell_type": "markdown",
      "metadata": {
        "id": "S4LNixJIUPrF"
      },
      "source": [
        "## Clase LinModel para ajustar y graficar"
      ]
    },
    {
      "cell_type": "code",
      "execution_count": 1,
      "metadata": {
        "colab": {
          "base_uri": "https://localhost:8080/",
          "height": 17
        },
        "id": "hMp9cMnMT_wK",
        "outputId": "19be685a-e127-4df7-eb61-e0ee43b8998b"
      },
      "outputs": [],
      "source": [
        "import pandas as pd\n",
        "import matplotlib.pyplot as plt\n",
        "\n",
        "import numpy as np\n",
        "from scipy.stats import t\n",
        "\n",
        "class LinModel():\n",
        "    def __init__(self, dataframe, xlabel='x', ylabel='y'):\n",
        "        self.x = dataframe[xlabel].copy()\n",
        "        self.y = dataframe[ylabel].copy()\n",
        "        \n",
        "        def stat_error(std, dof):\n",
        "            t_95 = t.isf(0.025, dof)\n",
        "            return std*t_95\n",
        "\n",
        "        coef, cov = np.polyfit(self.x, self.y, 1, cov=True)\n",
        "\n",
        "        self.m, self.b = coef\n",
        "        std_m, std_b = np.sqrt(np.diag(cov))\n",
        "        unc_m, unc_b = (stat_error(std_m, len(self.x)-2), stat_error(std_b, len(self.x)-2))\n",
        "        \n",
        "        # Falta añadir el error experimental, solo se reporta el estadístico!\n",
        "        self.stat_summary = pd.DataFrame(\n",
        "            data={\n",
        "                'Parámetro' : ['m', 'b'], \n",
        "                'Valor estimado':[self.m, self.b],\n",
        "                'Error estándar': [std_m, std_b], \n",
        "                'Incertidumbre':[unc_m, unc_b]\n",
        "            })\n",
        "        \n",
        "    def prediction_func(self, x):\n",
        "        return self.m*x + self.b   \n",
        "    \n",
        "    def plot(self, yerr=None, xerr=None, \n",
        "             x_var_name='x', y_var_name='y', \n",
        "             colors=['orange', 'red'], \n",
        "             plot_data=True, data_label='data', plot_fit=True, \n",
        "             x_var_units = 'xunits', y_var_units = 'yunits',\n",
        "             title=''):\n",
        "        self.ln_expression_latex = '$' + y_var_name + '(' + x_var_name + ') = ' + str(round(self.m, 1)) + x_var_name + ' + ' + str(round(self.b, 1)) + '$'\n",
        "                \n",
        "        #self.stat_info_latex = '\\n$R^2 = $' + str(round(self.ln_result.rvalue**2, 4)) + '\\n $\\sigma_{N-1} = $' + str(round(self.ln_result.stderr, 5))\n",
        "        if plot_data == True:\n",
        "            plt.errorbar(self.x, self.y, yerr=yerr, xerr=xerr, marker = '.', ls='none', ms='5',color = colors[0], ecolor = colors[1], elinewidth = 2, capsize=5, label=data_label)\n",
        "        if plot_fit == True:\n",
        "            plt.plot(self.x, self.x.apply(self.prediction_func), ls='--', color=colors[1], label=self.ln_expression_latex)\n",
        "        plt.xlabel('$' + x_var_name + '$' + ' (' + x_var_units + ')')\n",
        "        plt.ylabel('$' + y_var_name + '(' + x_var_name + ')' + '$' + ' (' + y_var_units + ')')\n",
        "        # Agregar título\n",
        "        plt.legend() "
      ]
    },
    {
      "cell_type": "markdown",
      "metadata": {
        "id": "qddukWi-X5Ew"
      },
      "source": [
        "## Datos\n",
        "Están en [este](https://github.com/gfsandovalv/Termodin-micaME/tree/main/1_Caracterizaci%C3%B3n_de_Term%C3%B3metros) repositorio."
      ]
    },
    {
      "cell_type": "code",
      "execution_count": 6,
      "metadata": {
        "colab": {
          "base_uri": "https://localhost:8080/",
          "height": 17
        },
        "id": "tn8Tfz3WX14d",
        "outputId": "890f3994-7104-49a9-f857-08cf143817d5"
      },
      "outputs": [
        {
          "data": {
            "text/plain": [
              "<AxesSubplot:xlabel='T', ylabel='V'>"
            ]
          },
          "execution_count": 6,
          "metadata": {},
          "output_type": "execute_result"
        },
        {
          "data": {
            "image/png": "[encoded data removed]",
            "text/plain": [
              "<Figure size 432x288 with 1 Axes>"
            ]
          },
          "metadata": {
            "needs_background": "light"
          },
          "output_type": "display_data"
        }
      ],
      "source": [
        "# Prefix path\n",
        "github_prefix = 'https://raw.githubusercontent.com/gfsandovalv/Termodin-micaME/main/1_Caracterizaci%C3%B3n_de_Term%C3%B3metros/'\n",
        "\n",
        "# Data reading\n",
        "termopar_data = pd.read_csv(github_prefix + 'termopar_data.csv')\n",
        "termistor_data = pd.read_csv(github_prefix + 'termistor_data.csv')\n",
        "bobina_data = pd.read_csv(github_prefix + 'termistor_bobina_data.csv')\n",
        "diodo_data = pd.read_csv(github_prefix + 'diodo_data.csv')\n",
        "diodo_data.plot(x='T', y='V', kind='scatter')"
      ]
    },
    {
      "cell_type": "markdown",
      "metadata": {
        "id": "7FPH6L-bVnqd"
      },
      "source": [
        "## Termopar"
      ]
    },
    {
      "cell_type": "code",
      "execution_count": null,
      "metadata": {
        "colab": {
          "base_uri": "https://localhost:8080/",
          "height": 379
        },
        "id": "JzZoePxJVUQG",
        "outputId": "d4b291f7-d5da-4ecf-f1d2-59d25ccbdd20"
      },
      "outputs": [
        {
          "data": {
            "text/html": [
              "\n",
              "  <style>\n",
              "    pre {\n",
              "        white-space: pre-wrap;\n",
              "    }\n",
              "  </style>\n",
              "  "
            ],
            "text/plain": [
              "<IPython.core.display.HTML object>"
            ]
          },
          "metadata": {},
          "output_type": "display_data"
        },
        {
          "data": {
            "text/html": [
              "\n",
              "  <style>\n",
              "    pre {\n",
              "        white-space: pre-wrap;\n",
              "    }\n",
              "  </style>\n",
              "  "
            ],
            "text/plain": [
              "<IPython.core.display.HTML object>"
            ]
          },
          "metadata": {},
          "output_type": "display_data"
        },
        {
          "data": {
            "text/html": [
              "\n",
              "  <style>\n",
              "    pre {\n",
              "        white-space: pre-wrap;\n",
              "    }\n",
              "  </style>\n",
              "  "
            ],
            "text/plain": [
              "<IPython.core.display.HTML object>"
            ]
          },
          "metadata": {},
          "output_type": "display_data"
        },
        {
          "data": {
            "text/html": [
              "\n",
              "  <div id=\"df-dc1f3b60-0100-4409-87ef-13a64c6f05e0\">\n",
              "    <div class=\"colab-df-container\">\n",
              "      <div>\n",
              "<style scoped>\n",
              "    .dataframe tbody tr th:only-of-type {\n",
              "        vertical-align: middle;\n",
              "    }\n",
              "\n",
              "    .dataframe tbody tr th {\n",
              "        vertical-align: top;\n",
              "    }\n",
              "\n",
              "    .dataframe thead th {\n",
              "        text-align: right;\n",
              "    }\n",
              "</style>\n",
              "<table border=\"1\" class=\"dataframe\">\n",
              "  <thead>\n",
              "    <tr style=\"text-align: right;\">\n",
              "      <th></th>\n",
              "      <th>Parámetro</th>\n",
              "      <th>Valor estimado</th>\n",
              "      <th>Error estándar</th>\n",
              "      <th>Incertidumbre</th>\n",
              "    </tr>\n",
              "  </thead>\n",
              "  <tbody>\n",
              "    <tr>\n",
              "      <th>0</th>\n",
              "      <td>m</td>\n",
              "      <td>17.976675</td>\n",
              "      <td>0.172456</td>\n",
              "      <td>0.354489</td>\n",
              "    </tr>\n",
              "    <tr>\n",
              "      <th>1</th>\n",
              "      <td>b</td>\n",
              "      <td>21.015236</td>\n",
              "      <td>0.349730</td>\n",
              "      <td>0.718880</td>\n",
              "    </tr>\n",
              "  </tbody>\n",
              "</table>\n",
              "</div>\n",
              "      <button class=\"colab-df-convert\" onclick=\"convertToInteractive('df-dc1f3b60-0100-4409-87ef-13a64c6f05e0')\"\n",
              "              title=\"Convert this dataframe to an interactive table.\"\n",
              "              style=\"display:none;\">\n",
              "        \n",
              "  <svg xmlns=\"http://www.w3.org/2000/svg\" height=\"24px\"viewBox=\"0 0 24 24\"\n",
              "       width=\"24px\">\n",
              "    <path d=\"M0 0h24v24H0V0z\" fill=\"none\"/>\n",
              "    <path d=\"M18.56 5.44l.94 2.06.94-2.06 2.06-.94-2.06-.94-.94-2.06-.94 2.06-2.06.94zm-11 1L8.5 8.5l.94-2.06 2.06-.94-2.06-.94L8.5 2.5l-.94 2.06-2.06.94zm10 10l.94 2.06.94-2.06 2.06-.94-2.06-.94-.94-2.06-.94 2.06-2.06.94z\"/><path d=\"M17.41 7.96l-1.37-1.37c-.4-.4-.92-.59-1.43-.59-.52 0-1.04.2-1.43.59L10.3 9.45l-7.72 7.72c-.78.78-.78 2.05 0 2.83L4 21.41c.39.39.9.59 1.41.59.51 0 1.02-.2 1.41-.59l7.78-7.78 2.81-2.81c.8-.78.8-2.07 0-2.86zM5.41 20L4 18.59l7.72-7.72 1.47 1.35L5.41 20z\"/>\n",
              "  </svg>\n",
              "      </button>\n",
              "      \n",
              "  <style>\n",
              "    .colab-df-container {\n",
              "      display:flex;\n",
              "      flex-wrap:wrap;\n",
              "      gap: 12px;\n",
              "    }\n",
              "\n",
              "    .colab-df-convert {\n",
              "      background-color: #E8F0FE;\n",
              "      border: none;\n",
              "      border-radius: 50%;\n",
              "      cursor: pointer;\n",
              "      display: none;\n",
              "      fill: #1967D2;\n",
              "      height: 32px;\n",
              "      padding: 0 0 0 0;\n",
              "      width: 32px;\n",
              "    }\n",
              "\n",
              "    .colab-df-convert:hover {\n",
              "      background-color: #E2EBFA;\n",
              "      box-shadow: 0px 1px 2px rgba(60, 64, 67, 0.3), 0px 1px 3px 1px rgba(60, 64, 67, 0.15);\n",
              "      fill: #174EA6;\n",
              "    }\n",
              "\n",
              "    [theme=dark] .colab-df-convert {\n",
              "      background-color: #3B4455;\n",
              "      fill: #D2E3FC;\n",
              "    }\n",
              "\n",
              "    [theme=dark] .colab-df-convert:hover {\n",
              "      background-color: #434B5C;\n",
              "      box-shadow: 0px 1px 3px 1px rgba(0, 0, 0, 0.15);\n",
              "      filter: drop-shadow(0px 1px 2px rgba(0, 0, 0, 0.3));\n",
              "      fill: #FFFFFF;\n",
              "    }\n",
              "  </style>\n",
              "\n",
              "      <script>\n",
              "        const buttonEl =\n",
              "          document.querySelector('#df-dc1f3b60-0100-4409-87ef-13a64c6f05e0 button.colab-df-convert');\n",
              "        buttonEl.style.display =\n",
              "          google.colab.kernel.accessAllowed ? 'block' : 'none';\n",
              "\n",
              "        async function convertToInteractive(key) {\n",
              "          const element = document.querySelector('#df-dc1f3b60-0100-4409-87ef-13a64c6f05e0');\n",
              "          const dataTable =\n",
              "            await google.colab.kernel.invokeFunction('convertToInteractive',\n",
              "                                                     [key], {});\n",
              "          if (!dataTable) return;\n",
              "\n",
              "          const docLinkHtml = 'Like what you see? Visit the ' +\n",
              "            '<a target=\"_blank\" href=https://colab.research.google.com/notebooks/data_table.ipynb>data table notebook</a>'\n",
              "            + ' to learn more about interactive tables.';\n",
              "          element.innerHTML = '';\n",
              "          dataTable['output_type'] = 'display_data';\n",
              "          await google.colab.output.renderOutput(dataTable, element);\n",
              "          const docLink = document.createElement('div');\n",
              "          docLink.innerHTML = docLinkHtml;\n",
              "          element.appendChild(docLink);\n",
              "        }\n",
              "      </script>\n",
              "    </div>\n",
              "  </div>\n",
              "  "
            ],
            "text/plain": [
              "  Parámetro  Valor estimado  Error estándar  Incertidumbre\n",
              "0         m       17.976675        0.172456       0.354489\n",
              "1         b       21.015236        0.349730       0.718880"
            ]
          },
          "execution_count": 18,
          "metadata": {},
          "output_type": "execute_result"
        },
        {
          "data": {
            "image/png": "[encoded data removed]",
            "text/plain": [
              "<Figure size 432x288 with 1 Axes>"
            ]
          },
          "metadata": {
            "needs_background": "light"
          },
          "output_type": "display_data"
        }
      ],
      "source": [
        "termopar_model = LinModel(termopar_data, xlabel='V', ylabel='T')\n",
        "termopar_model.plot(y_var_name='T', x_var_name='V', data_label='Valores medidos', colors=['red', 'blue'], y_var_units='°C', x_var_units='mV')\n",
        "termopar_model.stat_summary"
      ]
    }
  ],
  "metadata": {
    "colab": {
      "authorship_tag": "ABX9TyP4IXJxPEciOuisI26jtE3V",
      "collapsed_sections": [],
      "include_colab_link": true,
      "name": "Untitled0.ipynb",
      "provenance": []
    },
    "kernelspec": {
      "display_name": "Python 3.10.4 64-bit",
      "language": "python",
      "name": "python3"
    },
    "language_info": {
      "codemirror_mode": {
        "name": "ipython",
        "version": 3
      },
      "file_extension": ".py",
      "mimetype": "text/x-python",
      "name": "python",
      "nbconvert_exporter": "python",
      "pygments_lexer": "ipython3",
      "version": "3.10.4"
    },
    "vscode": {
      "interpreter": {
        "hash": "916dbcbb3f70747c44a77c7bcd40155683ae19c65e1c03b4aa3499c5328201f1"
      }
    }
  },
  "nbformat": 4,
  "nbformat_minor": 0
}
